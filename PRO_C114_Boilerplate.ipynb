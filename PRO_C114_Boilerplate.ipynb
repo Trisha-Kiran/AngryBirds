{
  "nbformat": 4,
  "nbformat_minor": 0,
  "metadata": {
    "colab": {
      "provenance": [],
      "include_colab_link": true
    },
    "kernelspec": {
      "name": "python3",
      "display_name": "Python 3"
    },
    "language_info": {
      "name": "python"
    }
  },
  "cells": [
    {
      "cell_type": "markdown",
      "metadata": {
        "id": "view-in-github",
        "colab_type": "text"
      },
      "source": [
        "<a href=\"https://colab.research.google.com/github/Trisha-Kiran/Angry_Bird_Game/blob/main/PRO_C114_Boilerplate.ipynb\" target=\"_parent\"><img src=\"https://colab.research.google.com/assets/colab-badge.svg\" alt=\"Open In Colab\"/></a>"
      ]
    },
    {
      "cell_type": "markdown",
      "source": [
        "## Load the Dataset"
      ],
      "metadata": {
        "id": "JVUNq18b2pLl"
      }
    },
    {
      "cell_type": "code",
      "execution_count": null,
      "metadata": {
        "colab": {
          "base_uri": "https://localhost:8080/"
        },
        "id": "a1j5OkXwWyXi",
        "outputId": "3852a77d-4d83-417e-8ded-0634a5d01611"
      },
      "outputs": [
        {
          "output_type": "stream",
          "name": "stdout",
          "text": [
            "Cloning into 'PRO-C114-Text-Sentiment-Dataset'...\n",
            "remote: Enumerating objects: 20, done.\u001b[K\n",
            "remote: Counting objects: 100% (9/9), done.\u001b[K\n",
            "remote: Compressing objects: 100% (9/9), done.\u001b[K\n",
            "remote: Total 20 (delta 2), reused 0 (delta 0), pack-reused 11\u001b[K\n",
            "Unpacking objects: 100% (20/20), done.\n"
          ]
        }
      ],
      "source": [
        "!git clone https://github.com/procodingclass/PRO-C114-Text-Sentiment-Dataset"
      ]
    },
    {
      "cell_type": "markdown",
      "source": [
        "## Pandas:\n",
        "**Pandas** is an open-source library built on top of Numpy and Matplotlib. It provides high-performance, easy-to-use data structures and data analysis tools.\n",
        "\n",
        "A DataFrame is a two-dimensional data structure, i.e., data is aligned in a tabular fashion in rows and columns. Pandas DataFrame consists of three principal components, the data, rows, and columns.\n",
        "\n",
        "Pandas DataFrame will be created by loading the datasets from existing MS Excel files, CSV files or SQL Database. Pandas DataFrame can also be created from the lists, dictionaries etc.\n",
        "\n"
      ],
      "metadata": {
        "id": "bCJiSzc3rbbi"
      }
    },
    {
      "cell_type": "code",
      "source": [
        "#Import pandas\n",
        "\n",
        "#read excel file\n",
        "\n",
        "#display first five entries of training dataset\n"
      ],
      "metadata": {
        "id": "8tw57zW9XmJW"
      },
      "execution_count": null,
      "outputs": []
    },
    {
      "cell_type": "markdown",
      "source": [
        "## Split the rows in two columns as Text and Emotions\n",
        "\n"
      ],
      "metadata": {
        "id": "-acm1w6z3Zzh"
      }
    },
    {
      "cell_type": "code",
      "source": [
        "#Use split() method to separate the Text and Emotions"
      ],
      "metadata": {
        "id": "zzegYbDaYbdA"
      },
      "execution_count": null,
      "outputs": []
    },
    {
      "cell_type": "markdown",
      "source": [
        "## Giving labels to Emotions"
      ],
      "metadata": {
        "id": "WkMExmL-4J-y"
      }
    },
    {
      "cell_type": "code",
      "source": [
        "#Find unique emotions\n"
      ],
      "metadata": {
        "id": "H_udnVtA3thj"
      },
      "execution_count": null,
      "outputs": []
    },
    {
      "cell_type": "code",
      "source": [
        "#Create a Dictionary to replace emotions with labels\n"
      ],
      "metadata": {
        "id": "v0kxadlr4VMe"
      },
      "execution_count": null,
      "outputs": []
    },
    {
      "cell_type": "markdown",
      "source": [
        "## Convert Dataframe to list of dataset"
      ],
      "metadata": {
        "id": "SLoT0jjT4yBK"
      }
    },
    {
      "cell_type": "code",
      "source": [
        "# Define two list for sentences and emotions\n",
        "\n",
        "# append text and emotions in the list using the 'loc' method\n",
        "\n",
        "#Check a random text and label of the list"
      ],
      "metadata": {
        "id": "wEw0yLt74ryp"
      },
      "execution_count": null,
      "outputs": []
    },
    {
      "cell_type": "markdown",
      "source": [
        "## Tokenization & Padding\n",
        "The act of converting text into numbers is known as **Tokenization**. The Tokenizer class of Keras is used for encoding text input into integer sequence.\n",
        "\n",
        "**Padding** is important to make all the sentences contain the same number of words. Zero is used for padding the tokenized sequence to make text contain the same number of tokens."
      ],
      "metadata": {
        "id": "JEJfFQtxzOKG"
      }
    },
    {
      "cell_type": "code",
      "source": [
        "#import Tokenizer and pad_sequences from tensorflow\n",
        "\n",
        "#Define parameters for Tokenizer\n",
        "\n",
        "#Create a word_index dictionary\n",
        "\n",
        "#Check the tokenized sequence"
      ],
      "metadata": {
        "id": "tffdBTQ_zUIW"
      },
      "execution_count": null,
      "outputs": []
    },
    {
      "cell_type": "code",
      "source": [
        "#import pad_sequences from tensorflow\n",
        "\n",
        "#Define parameters for pad_sequences\n",
        "\n",
        "#Check the padded sequence"
      ],
      "metadata": {
        "id": "zz4lPYEF1gAa"
      },
      "execution_count": null,
      "outputs": []
    }
  ]
}